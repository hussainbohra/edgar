{
 "cells": [
  {
   "cell_type": "code",
   "execution_count": 1,
   "metadata": {},
   "outputs": [],
   "source": [
    "import os\n",
    "os.chdir('../daizika')"
   ]
  },
  {
   "cell_type": "code",
   "execution_count": 2,
   "metadata": {},
   "outputs": [],
   "source": [
    "from edgar import SECHelper, SECEdgarParser"
   ]
  },
  {
   "cell_type": "markdown",
   "metadata": {},
   "source": [
    "# Code to download CIK Lookup file"
   ]
  },
  {
   "cell_type": "code",
   "execution_count": null,
   "metadata": {},
   "outputs": [],
   "source": [
    "# Download CIK file\n",
    "cikDownloader = SECHelper.CIKDownloader()\n",
    "filename = cikDownloader.download_cik_file()\n",
    "print('CIK File downloaded at: {}'.format(filename))"
   ]
  },
  {
   "cell_type": "markdown",
   "metadata": {},
   "source": [
    "# Code to download indexes"
   ]
  },
  {
   "cell_type": "markdown",
   "metadata": {},
   "source": [
    "## Code to download daily index "
   ]
  },
  {
   "cell_type": "code",
   "execution_count": null,
   "metadata": {},
   "outputs": [],
   "source": [
    "# Download Daily Form Index file\n",
    "index_date = datetime(2017, 10, 2)\n",
    "formDownloader = SECHelper.FormDownloader()\n",
    "formDownloader.download_daily_index(index_date) "
   ]
  },
  {
   "cell_type": "markdown",
   "metadata": {},
   "source": [
    "## Code to download full index and convert to CSV"
   ]
  },
  {
   "cell_type": "code",
   "execution_count": 3,
   "metadata": {},
   "outputs": [
    {
     "name": "stdout",
     "output_type": "stream",
     "text": [
      "Processing 2018/1\n",
      "Downloading index: 2018-QTR1\n",
      "...Form URL: https://www.sec.gov/Archives/edgar/full-index/2018/QTR1/form.idx\n",
      "...Target file: /development/data/sec/edgar/index/full/form_2018_QTR1.idx\n",
      "...Converting 2018-1\n",
      "...Wrote header\n",
      "...opened file for reading\n",
      "...Done 2018/1\n"
     ]
    }
   ],
   "source": [
    "# Download Quarterly Form Index file\n",
    "start_index_year = 2000\n",
    "#index_qtr = [1, 2, 3, 4]\n",
    "index_qtr = [1]\n",
    "formDownloader = SECHelper.FormDownloader()\n",
    "for year in range(18, 19):\n",
    "    index_year = start_index_year + year\n",
    "    for qtr in index_qtr:\n",
    "        print('Processing {}/{}'.format(index_year, qtr))\n",
    "        formDownloader.download_qtr_index(index_year, qtr)\n",
    "        formDownloader.convert_qtr_indx_to_csv(index_year, qtr)\n",
    "        print('...Done {}/{}'.format(index_year, qtr))        "
   ]
  },
  {
   "cell_type": "markdown",
   "metadata": {},
   "source": [
    "# Code to download forms"
   ]
  },
  {
   "cell_type": "code",
   "execution_count": null,
   "metadata": {},
   "outputs": [],
   "source": [
    "# Download forms\n",
    "index_year = 2016\n",
    "index_qtr = 4\n",
    "formDownloader = SECHelper.FormDownloader()\n",
    "formDownloader.download_qtr_forms(index_year=index_year, index_qtr=index_qtr, forms=['10-K'])"
   ]
  },
  {
   "cell_type": "markdown",
   "metadata": {},
   "source": [
    "# Code to extract documents"
   ]
  },
  {
   "cell_type": "code",
   "execution_count": null,
   "metadata": {},
   "outputs": [],
   "source": [
    "formProcessor = SECEdgarParser.FormProcessor()\n",
    "#form_list = formProcessor.extract_documents(form_type='10-K', extract_type=['10-K'], metadata=True)\n",
    "form_list = formProcessor.extract_documents(form_type='10-K', extract_type=['10-K'], metadata=False)"
   ]
  },
  {
   "cell_type": "markdown",
   "metadata": {},
   "source": [
    "# Code to parse 10-K form"
   ]
  },
  {
   "cell_type": "code",
   "execution_count": null,
   "metadata": {},
   "outputs": [],
   "source": [
    "formProcessor = SECEdgarParser.FormProcessor()\n",
    "form_list = formProcessor.extract_text(form_type='10-K')"
   ]
  },
  {
   "cell_type": "code",
   "execution_count": null,
   "metadata": {},
   "outputs": [],
   "source": []
  }
 ],
 "metadata": {
  "kernelspec": {
   "display_name": "Python 3",
   "language": "python",
   "name": "python3"
  },
  "language_info": {
   "codemirror_mode": {
    "name": "ipython",
    "version": 3
   },
   "file_extension": ".py",
   "mimetype": "text/x-python",
   "name": "python",
   "nbconvert_exporter": "python",
   "pygments_lexer": "ipython3",
   "version": "3.6.3"
  }
 },
 "nbformat": 4,
 "nbformat_minor": 2
}
