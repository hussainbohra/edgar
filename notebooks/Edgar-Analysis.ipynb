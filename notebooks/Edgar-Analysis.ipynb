{
 "cells": [
  {
   "cell_type": "code",
   "execution_count": null,
   "metadata": {},
   "outputs": [],
   "source": [
    "import os\n",
    "os.chdir('../daizika')"
   ]
  },
  {
   "cell_type": "code",
   "execution_count": null,
   "metadata": {},
   "outputs": [],
   "source": [
    "from edgar import SECHelper, SECEdgarParser"
   ]
  },
  {
   "cell_type": "code",
   "execution_count": 30,
   "metadata": {},
   "outputs": [],
   "source": [
    "import pandas as pd\n",
    "from datetime import datetime\n",
    "import matplotlib\n",
    "import numpy as np\n",
    "import matplotlib.pyplot as plt\n",
    "\n",
    "%matplotlib inline  "
   ]
  },
  {
   "cell_type": "markdown",
   "metadata": {},
   "source": [
    "# Code to generate stats from CIK Lookup file"
   ]
  },
  {
   "cell_type": "code",
   "execution_count": null,
   "metadata": {},
   "outputs": [],
   "source": [
    "cikObj = SECHelper.CIKDownloader()\n",
    "cikObj.download_cik_file()\n",
    "cik_folder, cik_file = cikObj.get_cik_target_filename()"
   ]
  },
  {
   "cell_type": "code",
   "execution_count": null,
   "metadata": {},
   "outputs": [],
   "source": [
    "companies = {}\n",
    "with open(cik_file, mode='r', encoding='utf-8') as f:\n",
    "    for line in f:\n",
    "        cik_parts = line.rstrip('\\n').split(':', 3)\n",
    "        companies[cik_parts[1]] = cik_parts[0]\n",
    "print(len(companies))"
   ]
  },
  {
   "cell_type": "markdown",
   "metadata": {},
   "source": [
    "# Code to generate stats from form files"
   ]
  },
  {
   "cell_type": "code",
   "execution_count": 39,
   "metadata": {
    "scrolled": true
   },
   "outputs": [
    {
     "name": "stdout",
     "output_type": "stream",
     "text": [
      "Processing 2000/1 /development/data/sec/edgar/index/full/form_2000_QTR1.idx\n",
      "...done\n",
      "Processing 2000/2 /development/data/sec/edgar/index/full/form_2000_QTR2.idx\n",
      "...done\n",
      "Processing 2000/3 /development/data/sec/edgar/index/full/form_2000_QTR3.idx\n",
      "...done\n",
      "Processing 2000/4 /development/data/sec/edgar/index/full/form_2000_QTR4.idx\n",
      "...done\n",
      "Processing 2001/1 /development/data/sec/edgar/index/full/form_2001_QTR1.idx\n",
      "...done\n",
      "Processing 2001/2 /development/data/sec/edgar/index/full/form_2001_QTR2.idx\n",
      "...done\n",
      "Processing 2001/3 /development/data/sec/edgar/index/full/form_2001_QTR3.idx\n",
      "...done\n",
      "Processing 2001/4 /development/data/sec/edgar/index/full/form_2001_QTR4.idx\n",
      "...done\n",
      "Processing 2002/1 /development/data/sec/edgar/index/full/form_2002_QTR1.idx\n",
      "...done\n",
      "Processing 2002/2 /development/data/sec/edgar/index/full/form_2002_QTR2.idx\n",
      "...done\n",
      "Processing 2002/3 /development/data/sec/edgar/index/full/form_2002_QTR3.idx\n",
      "...done\n",
      "Processing 2002/4 /development/data/sec/edgar/index/full/form_2002_QTR4.idx\n",
      "...done\n",
      "Processing 2003/1 /development/data/sec/edgar/index/full/form_2003_QTR1.idx\n",
      "...done\n",
      "Processing 2003/2 /development/data/sec/edgar/index/full/form_2003_QTR2.idx\n",
      "...done\n",
      "Processing 2003/3 /development/data/sec/edgar/index/full/form_2003_QTR3.idx\n",
      "...done\n",
      "Processing 2003/4 /development/data/sec/edgar/index/full/form_2003_QTR4.idx\n",
      "...done\n",
      "Processing 2004/1 /development/data/sec/edgar/index/full/form_2004_QTR1.idx\n",
      "...done\n",
      "Processing 2004/2 /development/data/sec/edgar/index/full/form_2004_QTR2.idx\n",
      "...done\n",
      "Processing 2004/3 /development/data/sec/edgar/index/full/form_2004_QTR3.idx\n",
      "...done\n",
      "Processing 2004/4 /development/data/sec/edgar/index/full/form_2004_QTR4.idx\n",
      "...done\n",
      "Processing 2005/1 /development/data/sec/edgar/index/full/form_2005_QTR1.idx\n",
      "...done\n",
      "Processing 2005/2 /development/data/sec/edgar/index/full/form_2005_QTR2.idx\n",
      "...done\n",
      "Processing 2005/3 /development/data/sec/edgar/index/full/form_2005_QTR3.idx\n",
      "...done\n",
      "Processing 2005/4 /development/data/sec/edgar/index/full/form_2005_QTR4.idx\n",
      "...done\n",
      "Processing 2006/1 /development/data/sec/edgar/index/full/form_2006_QTR1.idx\n",
      "...done\n",
      "Processing 2006/2 /development/data/sec/edgar/index/full/form_2006_QTR2.idx\n",
      "...done\n",
      "Processing 2006/3 /development/data/sec/edgar/index/full/form_2006_QTR3.idx\n",
      "...done\n",
      "Processing 2006/4 /development/data/sec/edgar/index/full/form_2006_QTR4.idx\n",
      "...done\n",
      "Processing 2007/1 /development/data/sec/edgar/index/full/form_2007_QTR1.idx\n",
      "...done\n",
      "Processing 2007/2 /development/data/sec/edgar/index/full/form_2007_QTR2.idx\n",
      "...done\n",
      "Processing 2007/3 /development/data/sec/edgar/index/full/form_2007_QTR3.idx\n",
      "...done\n",
      "Processing 2007/4 /development/data/sec/edgar/index/full/form_2007_QTR4.idx\n",
      "...done\n",
      "Processing 2008/1 /development/data/sec/edgar/index/full/form_2008_QTR1.idx\n",
      "...done\n",
      "Processing 2008/2 /development/data/sec/edgar/index/full/form_2008_QTR2.idx\n",
      "...done\n",
      "Processing 2008/3 /development/data/sec/edgar/index/full/form_2008_QTR3.idx\n",
      "...done\n",
      "Processing 2008/4 /development/data/sec/edgar/index/full/form_2008_QTR4.idx\n",
      "...done\n",
      "Processing 2009/1 /development/data/sec/edgar/index/full/form_2009_QTR1.idx\n",
      "...done\n",
      "Processing 2009/2 /development/data/sec/edgar/index/full/form_2009_QTR2.idx\n",
      "...done\n",
      "Processing 2009/3 /development/data/sec/edgar/index/full/form_2009_QTR3.idx\n",
      "...done\n",
      "Processing 2009/4 /development/data/sec/edgar/index/full/form_2009_QTR4.idx\n",
      "...done\n",
      "Processing 2010/1 /development/data/sec/edgar/index/full/form_2010_QTR1.idx\n",
      "...done\n",
      "Processing 2010/2 /development/data/sec/edgar/index/full/form_2010_QTR2.idx\n",
      "...done\n",
      "Processing 2010/3 /development/data/sec/edgar/index/full/form_2010_QTR3.idx\n",
      "...done\n",
      "Processing 2010/4 /development/data/sec/edgar/index/full/form_2010_QTR4.idx\n",
      "...done\n",
      "Processing 2011/1 /development/data/sec/edgar/index/full/form_2011_QTR1.idx\n",
      "...done\n",
      "Processing 2011/2 /development/data/sec/edgar/index/full/form_2011_QTR2.idx\n",
      "...done\n",
      "Processing 2011/3 /development/data/sec/edgar/index/full/form_2011_QTR3.idx\n",
      "...done\n",
      "Processing 2011/4 /development/data/sec/edgar/index/full/form_2011_QTR4.idx\n",
      "...done\n",
      "Processing 2012/1 /development/data/sec/edgar/index/full/form_2012_QTR1.idx\n",
      "...done\n",
      "Processing 2012/2 /development/data/sec/edgar/index/full/form_2012_QTR2.idx\n",
      "...done\n",
      "Processing 2012/3 /development/data/sec/edgar/index/full/form_2012_QTR3.idx\n",
      "...done\n",
      "Processing 2012/4 /development/data/sec/edgar/index/full/form_2012_QTR4.idx\n",
      "...done\n",
      "Processing 2013/1 /development/data/sec/edgar/index/full/form_2013_QTR1.idx\n",
      "...done\n",
      "Processing 2013/2 /development/data/sec/edgar/index/full/form_2013_QTR2.idx\n",
      "...done\n",
      "Processing 2013/3 /development/data/sec/edgar/index/full/form_2013_QTR3.idx\n",
      "...done\n",
      "Processing 2013/4 /development/data/sec/edgar/index/full/form_2013_QTR4.idx\n",
      "...done\n",
      "Processing 2014/1 /development/data/sec/edgar/index/full/form_2014_QTR1.idx\n",
      "...done\n",
      "Processing 2014/2 /development/data/sec/edgar/index/full/form_2014_QTR2.idx\n",
      "...done\n",
      "Processing 2014/3 /development/data/sec/edgar/index/full/form_2014_QTR3.idx\n",
      "...done\n",
      "Processing 2014/4 /development/data/sec/edgar/index/full/form_2014_QTR4.idx\n",
      "...done\n",
      "Processing 2015/1 /development/data/sec/edgar/index/full/form_2015_QTR1.idx\n",
      "...done\n",
      "Processing 2015/2 /development/data/sec/edgar/index/full/form_2015_QTR2.idx\n",
      "...done\n",
      "Processing 2015/3 /development/data/sec/edgar/index/full/form_2015_QTR3.idx\n",
      "...done\n",
      "Processing 2015/4 /development/data/sec/edgar/index/full/form_2015_QTR4.idx\n",
      "...done\n",
      "Processing 2016/1 /development/data/sec/edgar/index/full/form_2016_QTR1.idx\n",
      "...done\n",
      "Processing 2016/2 /development/data/sec/edgar/index/full/form_2016_QTR2.idx\n",
      "...done\n",
      "Processing 2016/3 /development/data/sec/edgar/index/full/form_2016_QTR3.idx\n",
      "...done\n",
      "Processing 2016/4 /development/data/sec/edgar/index/full/form_2016_QTR4.idx\n",
      "...done\n",
      "Processing 2017/1 /development/data/sec/edgar/index/full/form_2017_QTR1.idx\n",
      "...done\n",
      "Processing 2017/2 /development/data/sec/edgar/index/full/form_2017_QTR2.idx\n",
      "...done\n",
      "Processing 2017/3 /development/data/sec/edgar/index/full/form_2017_QTR3.idx\n",
      "...done\n",
      "Processing 2017/4 /development/data/sec/edgar/index/full/form_2017_QTR4.idx\n",
      "...done\n"
     ]
    }
   ],
   "source": [
    "# Download Quarterly Form Index file\n",
    "start_index_year = 2000\n",
    "qtrs = [1, 2, 3, 4]\n",
    "#forms=['4', '8-K', '10-K', '10-Q']\n",
    "form = '10-K'\n",
    "formDownloader = SECHelper.FormDownloader()\n",
    "data = []\n",
    "labels = ['dt_file', 'year', 'month', 'day', 'form_id', 'company_name', 'cik']\n",
    "for year in range(0, 18):\n",
    "    index_year = start_index_year + year\n",
    "    for index_qtr in qtrs:\n",
    "        target_folder, target_file = formDownloader.get_qtr_form_idx_target_file(index_year, index_qtr)\n",
    "        print('Processing {}/{} {}'.format(index_year, index_qtr, target_file))\n",
    "        with open(target_file, mode=\"r\", encoding=\"utf-8\") as idx:\n",
    "            bStart = False                    \n",
    "            for line in idx:\n",
    "                if not bStart and line.startswith('-----'):\n",
    "                    bStart = True\n",
    "                elif bStart:\n",
    "                    fields = [token.strip() for token in line.rstrip('\\n').split('  ') if len(token.strip()) > 0]\n",
    "                    if fields[0] == form:\n",
    "                        #print(line)\n",
    "                        form_id = line[0:12].strip()\n",
    "                        company_name = line[12:74].strip()\n",
    "                        cik = line[74:86].strip()\n",
    "                        filing_dt = line[86:98].strip().replace('-', '')\n",
    "                        year = int(filing_dt[0:4])\n",
    "                        month = int(filing_dt[4:6])\n",
    "                        day = int(filing_dt[6:8])\n",
    "                        dt_file = datetime(year, month, day)\n",
    "                        data.append([dt_file, year, month, day, form_id, company_name, cik])\n",
    "        print('...done')\n",
    "df = pd.DataFrame.from_records(data, columns=labels)        "
   ]
  },
  {
   "cell_type": "code",
   "execution_count": 36,
   "metadata": {},
   "outputs": [
    {
     "data": {
      "text/plain": [
       "Index(['dt_file', 'year', 'month', 'day', 'form_id', 'company_name', 'cik'], dtype='object')"
      ]
     },
     "execution_count": 36,
     "metadata": {},
     "output_type": "execute_result"
    }
   ],
   "source": [
    "df.columns"
   ]
  },
  {
   "cell_type": "code",
   "execution_count": 42,
   "metadata": {},
   "outputs": [
    {
     "data": {
      "text/plain": [
       "7074"
      ]
     },
     "execution_count": 42,
     "metadata": {},
     "output_type": "execute_result"
    }
   ],
   "source": [
    "#df[df.year == 2017].groupby(['year', 'month']).cik.nunique()\n",
    "df[df.year == 2017].cik.nunique()"
   ]
  },
  {
   "cell_type": "code",
   "execution_count": null,
   "metadata": {},
   "outputs": [],
   "source": []
  }
 ],
 "metadata": {
  "kernelspec": {
   "display_name": "Python 3",
   "language": "python",
   "name": "python3"
  },
  "language_info": {
   "codemirror_mode": {
    "name": "ipython",
    "version": 3
   },
   "file_extension": ".py",
   "mimetype": "text/x-python",
   "name": "python",
   "nbconvert_exporter": "python",
   "pygments_lexer": "ipython3",
   "version": "3.6.3"
  }
 },
 "nbformat": 4,
 "nbformat_minor": 2
}
