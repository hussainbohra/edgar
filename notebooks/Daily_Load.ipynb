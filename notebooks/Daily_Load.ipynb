{
 "cells": [
  {
   "cell_type": "code",
   "execution_count": null,
   "metadata": {},
   "outputs": [],
   "source": [
    "import os\n",
    "os.chdir('../daizika')"
   ]
  },
  {
   "cell_type": "code",
   "execution_count": null,
   "metadata": {},
   "outputs": [],
   "source": [
    "from datetime import datetime, timedelta"
   ]
  },
  {
   "cell_type": "code",
   "execution_count": null,
   "metadata": {},
   "outputs": [],
   "source": [
    "from edgar import SECHelper, SECEdgarParser"
   ]
  },
  {
   "cell_type": "code",
   "execution_count": null,
   "metadata": {
    "scrolled": true
   },
   "outputs": [],
   "source": [
    "!sudo rm -rf /development/data/sec/edgar/extract\n",
    "!sudo rm -rf /development/data/sec/edgar/forms\n",
    "!sudo rm -rf /development/data/sec/edgar/index/daily\n",
    "!sudo aws s3 rm s3://data.daizika.com/sec/edgar/extract/metadata/temp/ --recursive  \n",
    "start_date = datetime(2018, 3, 27)\n",
    "end_date = datetime(2018, 4, 1)\n",
    "current_date = start_date\n",
    "while current_date < end_date:\n",
    "    print('Processing: {}'.format(current_date))\n",
    "    index_date = current_date\n",
    "    # Download Daily Form Index file\n",
    "    formDownloader = SECHelper.FormDownloader()\n",
    "    formDownloader.download_daily_index(index_date) \n",
    "    formDownloader.convert_daily_indx_to_csv(index_date)\n",
    "    formDownloader.download_daily_forms(index_date=index_date, forms=['10-K'])\n",
    "    print('...done')\n",
    "    current_date += timedelta(days=1)\n",
    "formProcessor = SECEdgarParser.FormProcessor()\n",
    "form_list = formProcessor.extract_documents(form_type='10-K', extract_type=['10-K'], metadata=True)\n",
    "form_list = formProcessor.extract_text(form_type='10-K')\n",
    "formProcessor.convert_metadata_to_csv()\n",
    "!sudo rm /development/data/sec/edgar/index/daily/*.idx\n",
    "!sudo aws s3 cp /development/data/sec/edgar/index/daily/ s3://data.daizika.com/sec/edgar/index/daily/ --recursive\n",
    "!sudo aws s3 cp /development/data/sec/edgar/extract/metadata/ s3://data.daizika.com/sec/edgar/extract/metadata/ --recursive    \n",
    "!sudo aws s3 cp /development/data/sec/edgar/extract/json/ s3://data.daizika.com/sec/edgar/extract/json/ --recursive    \n",
    "print('Done')"
   ]
  },
  {
   "cell_type": "code",
   "execution_count": null,
   "metadata": {},
   "outputs": [],
   "source": [
    "#Use SQLWorkbench to load  s3://data.daizika.com/sec/edgar/index/daily/form*.csv file to database\n",
    "#Use SQLWorkbench to load  s3://data.daizika.com/sec/edgar/extract/metadata/temp/metadata.csv file to database\n",
    "#Use SQLWorkbench to load  s3://data.daizika.com/sec/edgar/extract/metadata/temp/company_name_changes.csv file to database"
   ]
  },
  {
   "cell_type": "code",
   "execution_count": null,
   "metadata": {},
   "outputs": [],
   "source": []
  }
 ],
 "metadata": {
  "kernelspec": {
   "display_name": "Python 3",
   "language": "python",
   "name": "python3"
  },
  "language_info": {
   "codemirror_mode": {
    "name": "ipython",
    "version": 3
   },
   "file_extension": ".py",
   "mimetype": "text/x-python",
   "name": "python",
   "nbconvert_exporter": "python",
   "pygments_lexer": "ipython3",
   "version": "3.6.3"
  }
 },
 "nbformat": 4,
 "nbformat_minor": 2
}
