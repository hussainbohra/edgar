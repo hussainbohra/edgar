{
 "cells": [
  {
   "cell_type": "code",
   "execution_count": 54,
   "metadata": {},
   "outputs": [],
   "source": [
    "import sys\n",
    "import json\n",
    "import os\n",
    "from IPython.nbformat import read, write, NO_CONVERT"
   ]
  },
  {
   "cell_type": "code",
   "execution_count": 57,
   "metadata": {},
   "outputs": [],
   "source": [
    "def _cells(nb):\n",
    "    \"\"\"Yield all cells in an nbformat-insensitive manner\"\"\"\n",
    "    if nb.nbformat < 4:\n",
    "        for ws in nb.worksheets:\n",
    "            for cell in ws.cells:\n",
    "                yield cell\n",
    "    else:\n",
    "        for cell in nb.cells:\n",
    "            yield cell\n",
    "            \n",
    "def strip_output(nb):\n",
    "    \"\"\"\n",
    "    Strip the outputs, execution count/prompt number and miscellaneous\n",
    "    metadata from a notebook object, unless specified to keep either the outputs\n",
    "    or counts.\n",
    "    \"\"\"\n",
    "\n",
    "    nb.metadata.pop('signature', None)\n",
    "    nb.metadata.pop('widgets', None)\n",
    "\n",
    "    for cell in _cells(nb):\n",
    "\n",
    "        keep_output_this_cell = False\n",
    "        keep_count = False\n",
    "\n",
    "        # Remove the outputs, unless directed otherwise\n",
    "        if 'outputs' in cell:\n",
    "\n",
    "            # Default behavior strips outputs. With all outputs stripped,\n",
    "            # there are no counts to keep and keep_count is ignored.\n",
    "            if not keep_output_this_cell:\n",
    "                cell['outputs'] = []\n",
    "\n",
    "            # If keep_output_this_cell, but not keep_count, strip the counts\n",
    "            # from the output.\n",
    "            if keep_output_this_cell and not keep_count:\n",
    "                for output in cell['outputs']:\n",
    "                    if 'execution_count' in output:\n",
    "                        output['execution_count'] = None\n",
    "\n",
    "            # If keep_output_this_cell and keep_count, do nothing.\n",
    "\n",
    "        # Remove the prompt_number/execution_count, unless directed otherwise\n",
    "        if 'prompt_number' in cell and not keep_count:\n",
    "            cell['prompt_number'] = None\n",
    "        if 'execution_count' in cell and not keep_count:\n",
    "            cell['execution_count'] = None\n",
    "\n",
    "        # Always remove this metadata\n",
    "        for output_style in ['collapsed', 'scrolled']:\n",
    "            if output_style in cell.metadata:\n",
    "                cell.metadata[output_style] = False\n",
    "        if 'metadata' in cell:\n",
    "            for field in ['collapsed', 'scrolled', 'ExecuteTime']:\n",
    "                cell.metadata.pop(field, None)\n",
    "    return nb"
   ]
  },
  {
   "cell_type": "code",
   "execution_count": 58,
   "metadata": {},
   "outputs": [],
   "source": [
    "filename = 'Edgar.ipynb'\n",
    "with io.open(filename, 'r', encoding='utf8') as f:\n",
    "    nb = read(f, as_version=NO_CONVERT)\n",
    "nb = strip_output(nb)    "
   ]
  },
  {
   "cell_type": "code",
   "execution_count": 59,
   "metadata": {},
   "outputs": [],
   "source": [
    "filename = 'Edgar_removed.ipynb'\n",
    "with io.open(filename, 'w', encoding='utf8') as f:\n",
    "    write(nb, f)"
   ]
  },
  {
   "cell_type": "code",
   "execution_count": null,
   "metadata": {},
   "outputs": [],
   "source": []
  }
 ],
 "metadata": {
  "kernelspec": {
   "display_name": "Python 3",
   "language": "python",
   "name": "python3"
  },
  "language_info": {
   "codemirror_mode": {
    "name": "ipython",
    "version": 3
   },
   "file_extension": ".py",
   "mimetype": "text/x-python",
   "name": "python",
   "nbconvert_exporter": "python",
   "pygments_lexer": "ipython3",
   "version": "3.6.3"
  }
 },
 "nbformat": 4,
 "nbformat_minor": 2
}
